{
 "cells": [
  {
   "cell_type": "code",
   "execution_count": 2,
   "metadata": {},
   "outputs": [
    {
     "data": {
      "text/plain": [
       "<module 'business' from '/Users/a92461/Documents/sohan/messagecheck/rulescheck/business.py'>"
      ]
     },
     "execution_count": 2,
     "metadata": {},
     "output_type": "execute_result"
    }
   ],
   "source": [
    "import importlib\n",
    "import business\n",
    "importlib.reload(business)"
   ]
  },
  {
   "cell_type": "code",
   "execution_count": 5,
   "metadata": {},
   "outputs": [
    {
     "name": "stdout",
     "output_type": "stream",
     "text": [
      "读取文件: 3月审核记录.xlsx\n",
      "成功读取文件，共 8133 条记录\n",
      "=============== 开始执行第一轮：规则审核==============\n"
     ]
    },
    {
     "name": "stderr",
     "output_type": "stream",
     "text": [
      "规则审核进度:   0%|                                                        | 0/8133 [00:00<?, ?it/s]Building prefix dict from the default dictionary ...\n",
      "Loading model from cache /var/folders/g5/7ywkrjs52mn6f4r8ws5jsw8c0000gn/T/jieba.cache\n",
      "Loading model cost 0.285 seconds.\n",
      "Prefix dict has been built successfully.\n",
      "规则审核进度: 100%|████████████████████████████████████████████| 8133/8133 [00:09<00:00, 871.85it/s]\n"
     ]
    },
    {
     "name": "stdout",
     "output_type": "stream",
     "text": [
      "\n",
      "规则审核完成:\n",
      "- 总记录数: 8133\n",
      "- 放行数量: 2869 (35.28%)\n",
      "- 失败数量: 5264 (64.72%)\n",
      "完整审核结果已保存至: 123规则审核_20250430_175550.xlsx\n",
      "\n",
      "审核结果统计:\n",
      "总样本数: 8133\n",
      "代码放行但人工失败数量: 89\n",
      "代码失败但人工放行数量: 4158\n",
      "匹配数量: 3886\n",
      "匹配率: 47.78%\n"
     ]
    }
   ],
   "source": [
    "# 第一轮规则审核代码 \n",
    "import pandas as pd\n",
    "import os\n",
    "from datetime import datetime\n",
    "import re\n",
    "from typing import Tuple, Dict, List\n",
    "from business import validate_business\n",
    "from tqdm import tqdm\n",
    "\n",
    "def first_round_rule_audit(input_file: str) -> pd.DataFrame:\n",
    "    \"\"\"\n",
    "    执行第一轮规则审核并返回完整的审核结果DataFrame\n",
    "    \n",
    "    Args:\n",
    "        input_file: 输入Excel文件路径\n",
    "    \n",
    "    Returns:\n",
    "        df: 包含所有短信审核结果的DataFrame\n",
    "    \"\"\"\n",
    "    # 读取Excel文件\n",
    "    print(f\"读取文件: {input_file}\")\n",
    "    df = pd.read_excel(input_file)\n",
    "    print(f\"成功读取文件，共 {len(df)} 条记录\")\n",
    "    \n",
    "    # 创建结果列\n",
    "    df['总体操作类型'] = None\n",
    "    df['业务操作类型'] = None\n",
    "    \n",
    "    # 审核计数器\n",
    "    pass_count = 0\n",
    "    fail_count = 0\n",
    "    error_count = 0\n",
    "    \n",
    "    print(\"=============== 开始执行第一轮：规则审核==============\")\n",
    "    \n",
    "    # 对每条短信执行规则审核\n",
    "    for index, row in tqdm(df.iterrows(), total=len(df), desc=\"规则审核进度\", ncols=100):\n",
    "        \n",
    "            \n",
    "        try:\n",
    "            # 调用业务规则审核\n",
    "            business_passed, business_reason = validate_business(\n",
    "                row['产品类型'],\n",
    "                row['短信内容'], \n",
    "                row['短信签名'],\n",
    "                row.get('账户类型')\n",
    "            )\n",
    "            \n",
    "            # 更新结果\n",
    "            if business_passed:\n",
    "                df.loc[index, '总体操作类型'] = '放行'\n",
    "                pass_count += 1\n",
    "            else:\n",
    "                df.loc[index, '总体操作类型'] = '失败'\n",
    "                fail_count += 1\n",
    "                \n",
    "            df.loc[index, '业务操作类型'] = business_reason\n",
    "            \n",
    "        except Exception as e:\n",
    "            print(f\"处理行 {index} 时出错: {str(e)}\")\n",
    "            df.loc[index, '总体操作类型'] = '处理错误'\n",
    "            df.loc[index, '业务操作类型'] = f\"处理错误: {str(e)}\"\n",
    "            error_count += 1\n",
    "    \n",
    "    # 输出统计信息\n",
    "    total = len(df)\n",
    "    print(f\"\\n规则审核完成:\")\n",
    "    print(f\"- 总记录数: {total}\")\n",
    "    print(f\"- 放行数量: {pass_count} ({pass_count/total*100:.2f}%)\")\n",
    "    print(f\"- 失败数量: {fail_count} ({fail_count/total*100:.2f}%)\")\n",
    "    if error_count > 0:\n",
    "        print(f\"- 错误数量: {error_count} ({error_count/total*100:.2f}%)\")\n",
    "    \n",
    "    #可选：保存结果到Excel文件\n",
    "    timestamp = datetime.now().strftime(\"%Y%m%d_%H%M%S\")\n",
    "    output_file = f\"123规则审核_{timestamp}.xlsx\"\n",
    "    df.to_excel(output_file, index=False)\n",
    "    print(f\"完整审核结果已保存至: {output_file}\")\n",
    "    \n",
    "    \n",
    "    # 统计不同情况的数量\n",
    "    code_pass_human_fail = len(df[(df['总体操作类型'] == '放行') & (df['操作类型'] == '失败')])\n",
    "    code_fail_human_pass = len(df[(df['总体操作类型'] == '失败') & (df['操作类型'] == '放行')])\n",
    "    matched = len(df[df['总体操作类型'] == df['操作类型']])\n",
    "    match_rate = (matched / total) * 100\n",
    "    \n",
    "    # 打印结果\n",
    "    print('\\n审核结果统计:')\n",
    "    print(f'总样本数: {total}')\n",
    "    print(f'代码放行但人工失败数量: {code_pass_human_fail}')\n",
    "    print(f'代码失败但人工放行数量: {code_fail_human_pass}')\n",
    "    print(f'匹配数量: {matched}')\n",
    "    print(f'匹配率: {match_rate:.2f}%')\n",
    "\n",
    "\n",
    "    return df\n",
    "\n",
    "# 使用示例 \n",
    "df_with_results = first_round_rule_audit(\"3月审核记录.xlsx\")\n",
    "\n"
   ]
  }
 ],
 "metadata": {
  "kernelspec": {
   "display_name": ".venv",
   "language": "python",
   "name": "python3"
  },
  "language_info": {
   "codemirror_mode": {
    "name": "ipython",
    "version": 3
   },
   "file_extension": ".py",
   "mimetype": "text/x-python",
   "name": "python",
   "nbconvert_exporter": "python",
   "pygments_lexer": "ipython3",
   "version": "3.12.10"
  }
 },
 "nbformat": 4,
 "nbformat_minor": 2
}
