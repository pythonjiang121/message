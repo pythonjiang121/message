{
 "cells": [
  {
   "cell_type": "code",
   "execution_count": 29,
   "metadata": {},
   "outputs": [
    {
     "data": {
      "text/plain": [
       "<module 'business' from '/Users/a92461/Desktop/硕汉/短信审核/business.py'>"
      ]
     },
     "execution_count": 29,
     "metadata": {},
     "output_type": "execute_result"
    }
   ],
   "source": [
    "import importlib\n",
    "import business\n",
    "importlib.reload(business)"
   ]
  },
  {
   "cell_type": "code",
   "execution_count": 26,
   "metadata": {},
   "outputs": [
    {
     "name": "stdout",
     "output_type": "stream",
     "text": [
      "读取文件: 3月审核记录.xlsx\n",
      "成功读取文件，共 8133 条记录\n",
      "=============== 开始执行第一轮：规则审核==============\n"
     ]
    },
    {
     "name": "stderr",
     "output_type": "stream",
     "text": [
      "规则审核进度:   2%|▋                                           | 133/8133 [00:00<00:06, 1325.21it/s]"
     ]
    },
    {
     "name": "stdout",
     "output_type": "stream",
     "text": [
      "处理行 187 时出错: 'score'\n"
     ]
    },
    {
     "name": "stderr",
     "output_type": "stream",
     "text": [
      "规则审核进度:   5%|██▏                                         | 396/8133 [00:00<00:06, 1277.80it/s]"
     ]
    },
    {
     "name": "stdout",
     "output_type": "stream",
     "text": [
      "处理行 319 时出错: 'score'\n"
     ]
    },
    {
     "name": "stderr",
     "output_type": "stream",
     "text": [
      "规则审核进度:  21%|████████▊                                  | 1671/8133 [00:01<00:05, 1214.16it/s]"
     ]
    },
    {
     "name": "stdout",
     "output_type": "stream",
     "text": [
      "处理行 1434 时出错: 'score'\n",
      "处理行 1652 时出错: 'score'\n"
     ]
    },
    {
     "name": "stderr",
     "output_type": "stream",
     "text": [
      "规则审核进度:  27%|███████████▌                               | 2184/8133 [00:01<00:04, 1271.23it/s]"
     ]
    },
    {
     "name": "stdout",
     "output_type": "stream",
     "text": [
      "处理行 1927 时出错: 'score'\n",
      "处理行 1948 时出错: 'score'\n"
     ]
    },
    {
     "name": "stderr",
     "output_type": "stream",
     "text": [
      "规则审核进度:  33%|██████████████▎                            | 2696/8133 [00:02<00:04, 1261.10it/s]"
     ]
    },
    {
     "name": "stdout",
     "output_type": "stream",
     "text": [
      "处理行 2495 时出错: 'score'\n"
     ]
    },
    {
     "name": "stderr",
     "output_type": "stream",
     "text": [
      "规则审核进度:  38%|████████████████▎                          | 3084/8133 [00:02<00:03, 1270.72it/s]"
     ]
    },
    {
     "name": "stdout",
     "output_type": "stream",
     "text": [
      "处理行 2959 时出错: 'score'\n",
      "处理行 2960 时出错: 'score'\n",
      "处理行 2962 时出错: 'score'\n",
      "处理行 3121 时出错: 'score'\n",
      "处理行 3122 时出错: 'score'\n",
      "处理行 3126 时出错: 'score'\n",
      "处理行 3130 时出错: 'score'\n"
     ]
    },
    {
     "name": "stderr",
     "output_type": "stream",
     "text": [
      "规则审核进度:  42%|██████████████████▎                        | 3453/8133 [00:02<00:04, 1157.34it/s]"
     ]
    },
    {
     "name": "stdout",
     "output_type": "stream",
     "text": [
      "处理行 3312 时出错: 'score'\n"
     ]
    },
    {
     "name": "stderr",
     "output_type": "stream",
     "text": [
      "规则审核进度:  45%|███████████████████▌                       | 3693/8133 [00:03<00:03, 1165.01it/s]"
     ]
    },
    {
     "name": "stdout",
     "output_type": "stream",
     "text": [
      "处理行 3560 时出错: 'score'\n"
     ]
    },
    {
     "name": "stderr",
     "output_type": "stream",
     "text": [
      "规则审核进度:  57%|████████████████████████▋                  | 4665/8133 [00:03<00:03, 1126.47it/s]"
     ]
    },
    {
     "name": "stdout",
     "output_type": "stream",
     "text": [
      "处理行 4502 时出错: 'score'\n",
      "处理行 4503 时出错: 'score'\n",
      "处理行 4504 时出错: 'score'\n"
     ]
    },
    {
     "name": "stderr",
     "output_type": "stream",
     "text": [
      "规则审核进度:  62%|██████████████████████████▍                | 5003/8133 [00:04<00:02, 1102.80it/s]"
     ]
    },
    {
     "name": "stdout",
     "output_type": "stream",
     "text": [
      "处理行 4879 时出错: 'score'\n",
      "处理行 4880 时出错: 'score'\n",
      "处理行 4883 时出错: 'score'\n",
      "处理行 4921 时出错: 'score'\n"
     ]
    },
    {
     "name": "stderr",
     "output_type": "stream",
     "text": [
      "规则审核进度:  90%|██████████████████████████████████████▉    | 7357/8133 [00:06<00:00, 1140.06it/s]"
     ]
    },
    {
     "name": "stdout",
     "output_type": "stream",
     "text": [
      "处理行 7163 时出错: 'score'\n"
     ]
    },
    {
     "name": "stderr",
     "output_type": "stream",
     "text": [
      "规则审核进度: 100%|███████████████████████████████████████████| 8133/8133 [00:06<00:00, 1180.93it/s]\n"
     ]
    },
    {
     "name": "stdout",
     "output_type": "stream",
     "text": [
      "\n",
      "规则审核完成:\n",
      "- 总记录数: 8133\n",
      "- 通过数量: 6302 (77.49%)\n",
      "- 失败数量: 1807 (22.22%)\n",
      "- 错误数量: 24 (0.30%)\n",
      "完整审核结果已保存至: 规则审核_20250408_152746.xlsx\n",
      "\n",
      "审核结果统计:\n",
      "总样本数: 8133\n",
      "代码放行但人工失败数量: 362\n",
      "代码失败但人工放行数量: 974\n",
      "匹配数量: 6773\n",
      "匹配率: 83.28%\n"
     ]
    }
   ],
   "source": [
    "# 第一轮规则审核代码 \n",
    "import pandas as pd\n",
    "import os\n",
    "from datetime import datetime\n",
    "import re\n",
    "from typing import Tuple, Dict, List\n",
    "from business import validate_business\n",
    "from tqdm import tqdm\n",
    "\n",
    "def first_round_rule_audit(input_file: str) -> pd.DataFrame:\n",
    "    \"\"\"\n",
    "    执行第一轮规则审核并返回完整的审核结果DataFrame\n",
    "    \n",
    "    Args:\n",
    "        input_file: 输入Excel文件路径\n",
    "    \n",
    "    Returns:\n",
    "        df: 包含所有短信审核结果的DataFrame\n",
    "    \"\"\"\n",
    "    # 读取Excel文件\n",
    "    print(f\"读取文件: {input_file}\")\n",
    "    df = pd.read_excel(input_file)\n",
    "    print(f\"成功读取文件，共 {len(df)} 条记录\")\n",
    "    \n",
    "    # 创建结果列\n",
    "    df['总体操作类型'] = None\n",
    "    df['业务操作类型'] = None\n",
    "    \n",
    "    # 审核计数器\n",
    "    pass_count = 0\n",
    "    fail_count = 0\n",
    "    error_count = 0\n",
    "    \n",
    "    print(\"=============== 开始执行第一轮：规则审核==============\")\n",
    "    \n",
    "    # 对每条短信执行规则审核\n",
    "    for index, row in tqdm(df.iterrows(), total=len(df), desc=\"规则审核进度\", ncols=100):\n",
    "        \n",
    "            \n",
    "        try:\n",
    "            # 调用业务规则审核\n",
    "            business_passed, business_reason = validate_business(\n",
    "                row['产品类型'],\n",
    "                row['短信内容'], \n",
    "                row['短信签名'],\n",
    "                row.get('账户类型')\n",
    "            )\n",
    "            \n",
    "            # 更新结果\n",
    "            if business_passed:\n",
    "                df.loc[index, '总体操作类型'] = '放行'\n",
    "                pass_count += 1\n",
    "            else:\n",
    "                df.loc[index, '总体操作类型'] = '失败'\n",
    "                fail_count += 1\n",
    "                \n",
    "            df.loc[index, '业务操作类型'] = business_reason\n",
    "            \n",
    "        except Exception as e:\n",
    "            print(f\"处理行 {index} 时出错: {str(e)}\")\n",
    "            df.loc[index, '总体操作类型'] = '处理错误'\n",
    "            df.loc[index, '业务操作类型'] = f\"处理错误: {str(e)}\"\n",
    "            error_count += 1\n",
    "    \n",
    "    # 输出统计信息\n",
    "    total = len(df)\n",
    "    print(f\"\\n规则审核完成:\")\n",
    "    print(f\"- 总记录数: {total}\")\n",
    "    print(f\"- 通过数量: {pass_count} ({pass_count/total*100:.2f}%)\")\n",
    "    print(f\"- 失败数量: {fail_count} ({fail_count/total*100:.2f}%)\")\n",
    "    if error_count > 0:\n",
    "        print(f\"- 错误数量: {error_count} ({error_count/total*100:.2f}%)\")\n",
    "    \n",
    "    #可选：保存结果到Excel文件\n",
    "    timestamp = datetime.now().strftime(\"%Y%m%d_%H%M%S\")\n",
    "    output_file = f\"规则审核_{timestamp}.xlsx\"\n",
    "    df.to_excel(output_file, index=False)\n",
    "    print(f\"完整审核结果已保存至: {output_file}\")\n",
    "    \n",
    "    \n",
    "    # 统计不同情况的数量\n",
    "    code_pass_human_fail = len(df[(df['总体操作类型'] == '放行') & (df['操作类型'] == '失败')])\n",
    "    code_fail_human_pass = len(df[(df['总体操作类型'] == '失败') & (df['操作类型'] == '放行')])\n",
    "    matched = len(df[df['总体操作类型'] == df['操作类型']])\n",
    "    match_rate = (matched / total) * 100\n",
    "    \n",
    "    # 打印结果\n",
    "    print('\\n审核结果统计:')\n",
    "    print(f'总样本数: {total}')\n",
    "    print(f'代码放行但人工失败数量: {code_pass_human_fail}')\n",
    "    print(f'代码失败但人工放行数量: {code_fail_human_pass}')\n",
    "    print(f'匹配数量: {matched}')\n",
    "    print(f'匹配率: {match_rate:.2f}%')\n",
    "\n",
    "\n",
    "    return df\n",
    "\n",
    "# 使用示例 \n",
    "df_with_resultsƒ = first_round_rule_audit(\"3月审核记录.xlsx\")\n",
    "\n"
   ]
  },
  {
   "cell_type": "code",
   "execution_count": null,
   "metadata": {},
   "outputs": [],
   "source": [
    "\n",
    "import time\n",
    "from business import validate_business\n",
    "from typing import Tuple, Dict\n",
    "import pandas as pd\n",
    "import os\n",
    "from datetime import datetime\n",
    "import re\n",
    "from collections import Counter\n",
    "from ai_check import AIAuditor\n",
    "import json\n",
    "\n",
    "# 2. 准备AI审核数据\n",
    "def prepare_ai_data(sample_df):\n",
    "    \"\"\"准备AI审核数据\"\"\"\n",
    "    ai_audit_list = []\n",
    "    for _, row in sample_df.iterrows():\n",
    "        try:\n",
    "            score = 100.0  # 默认分数\n",
    "            try:\n",
    "                score_match = re.search(r'总分: (\\d+\\.?\\d*)', row['业务操作类型'])\n",
    "                if score_match:\n",
    "                    score = float(score_match.group(1))\n",
    "                elif \"直接通过\" in row['业务操作类型']:\n",
    "                    score = 100.0  # 直接通过给高分\n",
    "            except Exception as e:\n",
    "                print(f\"提取分数时出错: {str(e)}\")\n",
    "            \n",
    "            ai_audit_list.append({\n",
    "                \"signature\": row['短信签名'],\n",
    "                \"content\": row['短信内容'],\n",
    "                \"business_type\": row['产品类型'],\n",
    "                \"rule_score\": score,\n",
    "                \"rule_reason\": row['业务操作类型']\n",
    "            })\n",
    "        except Exception as e:\n",
    "            print(f\"准备AI审核数据时出错: {str(e)}\")\n",
    "    return ai_audit_list\n",
    "\n",
    "\n",
    "# 4. 测试小批量审核\n",
    "def test_batch_audit(df):\n",
    "    \"\"\"测试小批量审核\"\"\"    \n",
    "    # 然后在下一个单元格中可以随机抽取部分放行的短信进行AI二次审核\n",
    "    sample_size = 5  # 设置样本大小\n",
    "    passed_df = df[df['总体操作类型'] == '放行']\n",
    "    sample_df = passed_df.sample(min(sample_size, len(passed_df)))\n",
    "    print(f\"已随机抽取 {len(sample_df)} 条通过规则审核的短信用于AI二次审核\")\n",
    "    \n",
    "    # 准备AI审核数据\n",
    "    ai_audit_list = prepare_ai_data(sample_df)\n",
    "\n",
    "    # 批量审核\n",
    "    print(\"============= 开始第二轮：AI审核 =============\")\n",
    "    auditor = AIAuditor()\n",
    "    start_time = time.time()\n",
    "    results = auditor.batch_audit(ai_audit_list)\n",
    "    elapsed = time.time() - start_time\n",
    "    \n",
    "    # 统计结果\n",
    "    pass_count = sum(1 for result in results if result['passed'])\n",
    "    reject_count = len(results) - pass_count\n",
    "    \n",
    "    print(f\"审核完成: 通过 {pass_count} 条, 驳回 {reject_count} 条\")\n",
    "    print(f\"总耗时: {elapsed:.2f}秒, 平均每条: {elapsed/len(results):.2f}秒\")\n",
    "    \n",
    "    # 显示详细结果\n",
    "    print(\"\\n详细结果:\")\n",
    "    for i, result in enumerate(results):\n",
    "        sms = result['sms']\n",
    "        print(f\"\\n短信 {i+1}:\")\n",
    "        print(f\"签名: {sms['signature']}\")\n",
    "        print(f\"内容: {sms['content'][:50]}...\" if len(sms['content']) > 50 else f\"内容: {sms['content']}\")\n",
    "        print(f\"业务类型: {sms['business_type']}\")\n",
    "        print(f\"审核结果: {'通过' if result['passed'] else '驳回'}\")\n",
    "        if not result['passed'] and 'reasons' in result['details']:\n",
    "            print(f\"驳回原因: {', '.join(result['details']['reasons'])}\")\n",
    "    \n",
    "    return results\n",
    "\n",
    "# 运行测试\n",
    "# test_single_audit()\n",
    "# test_batch_audit(df_with_results)"
   ]
  },
  {
   "cell_type": "code",
   "execution_count": 34,
   "metadata": {},
   "outputs": [
    {
     "name": "stdout",
     "output_type": "stream",
     "text": [
      "=============== 短信信息 =============\n",
      "签名: 缪偲科技\n",
      "内容: 【缪偲科技】您的验证码为：午夜激晴，韩，欧高清无吗 118.145.211.233 ,有效期为 n 分钟,请确保是本人操作,不要把验证码泄露给其他人\n",
      "业务类型: 行业-通知\n",
      "\n",
      "\n",
      "=============== 第一轮：规则审核 =============\n",
      "规则审核结果: 失败\n",
      "规则审核原因: 审核不通过 (总分: 55.73)\n",
      "规则审核分数: 55.73\n",
      "\n",
      "规则审核未通过，不进行AI审核\n",
      "\n",
      "=============== 最终审核结果 =============\n",
      "审核结果: 规则审核未通过\n",
      "失败原因: 审核不通过 (总分: 55.73)\n"
     ]
    }
   ],
   "source": [
    "# 3. 测试单条短信审核\n",
    "from business import validate_business\n",
    "import re\n",
    "\n",
    "def test_single_audit():\n",
    "    \"\"\"测试单条短信审核\"\"\"\n",
    "    # 测试一条短信\n",
    "    test_sms = {\n",
    "        \"signature\": \"缪偲科技\",\n",
    "        \"content\": \"【缪偲科技】您的验证码为：午夜激晴，韩，欧高清无吗 118.145.211.233 ,有效期为 n 分钟,请确保是本人操作,不要把验证码泄露给其他人\",\n",
    "        \"business_type\": \"行业-通知\",\n",
    "        \"account_type\": None  \n",
    "    }\n",
    "    print(\"=============== 短信信息 =============\")\n",
    "    print(f\"签名: {test_sms['signature']}\")\n",
    "    print(f\"内容: {test_sms['content']}\")\n",
    "    print(f\"业务类型: {test_sms['business_type']}\")\n",
    "    if test_sms.get(\"account_type\"):\n",
    "        print(f\"账户类型: {test_sms['account_type']}\")\n",
    "    print(\"\\n\")\n",
    "\n",
    "    print(\"=============== 第一轮：规则审核 =============\")\n",
    "    # 执行规则审核\n",
    "    business_passed, business_reason = validate_business(\n",
    "        test_sms[\"business_type\"],\n",
    "        test_sms[\"content\"],\n",
    "        test_sms[\"signature\"],\n",
    "        test_sms.get(\"account_type\")\n",
    "    )\n",
    "    \n",
    "    # 提取规则审核分数\n",
    "    score = 100.0  # 默认分数\n",
    "    try:\n",
    "        score_match = re.search(r'总分: (\\d+\\.?\\d*)', business_reason)\n",
    "        if score_match:\n",
    "            score = float(score_match.group(1))\n",
    "        elif \"直接通过\" in business_reason:\n",
    "            score = 100.0\n",
    "    except Exception as e:\n",
    "        print(f\"提取分数时出错: {str(e)}\")\n",
    "    \n",
    "    print(f\"规则审核结果: {'通过' if business_passed else '失败'}\")\n",
    "    print(f\"规则审核原因: {business_reason}\")\n",
    "    print(f\"规则审核分数: {score}\")\n",
    "    \n",
    "    # 如果规则审核通过，进行AI审核\n",
    "    if business_passed:\n",
    "        print(\"\\n=============== 第二轮：AI审核 =============\")\n",
    "        auditor = AIAuditor()\n",
    "        start_time = time.time()\n",
    "        passed, details = auditor.audit_sms(\n",
    "            test_sms[\"signature\"],\n",
    "            test_sms[\"content\"],\n",
    "            test_sms[\"business_type\"],\n",
    "            score,\n",
    "            business_reason\n",
    "        )\n",
    "        elapsed = time.time() - start_time\n",
    "        \n",
    "        print(f\"AI审核结果: {'通过' if passed else '驳回'}\")\n",
    "        print(f\"AI审核详情: {json.dumps(details, ensure_ascii=False, indent=2)}\")\n",
    "        print(f\"AI审核耗时: {elapsed:.2f}秒\")\n",
    "    else:\n",
    "        print(\"\\n规则审核未通过，不进行AI审核\")\n",
    "\n",
    "    # 输出最终结果\n",
    "    print(\"\\n=============== 最终审核结果 =============\")\n",
    "    if not business_passed:\n",
    "        print(\"审核结果: 规则审核未通过\")\n",
    "        print(f\"失败原因: {business_reason}\")\n",
    "    else:\n",
    "        print(f\"审核结果: {'通过' if passed else 'AI审核未通过'}\")\n",
    "        if not passed:\n",
    "            print(f\"失败原因: {', '.join(details.get('reasons', []))}\")\n",
    "\n",
    "# 运行测试\n",
    "test_single_audit()"
   ]
  },
  {
   "cell_type": "code",
   "execution_count": 3,
   "metadata": {},
   "outputs": [
    {
     "name": "stdout",
     "output_type": "stream",
     "text": [
      "Contains link: True, Link count: 2\n"
     ]
    }
   ],
   "source": [
    "from business import BusinessValidator \n",
    "\n",
    "\n",
    "validator = BusinessValidator()\n",
    "content = \"【中国游协】CAAPA游乐展即将举办，[::1]:8080 或 127.0.0.1 查看监控，。600+企业参展，覆盖主题公园、景区、度假区、水乐园等文旅项目装备及服务，助您一站式升级新体验！同期举办低空、文商旅、沉浸、城市公园等13+专项论坛，快捷登记 拒收请回复R\"\n",
    "has_link, link_count = validator._contains_link(content)\n",
    "print(f\"Contains link: {has_link}, Link count: {link_count}\")  # Should detect the IP address"
   ]
  }
 ],
 "metadata": {
  "kernelspec": {
   "display_name": ".venv",
   "language": "python",
   "name": "python3"
  },
  "language_info": {
   "codemirror_mode": {
    "name": "ipython",
    "version": 3
   },
   "file_extension": ".py",
   "mimetype": "text/x-python",
   "name": "python",
   "nbconvert_exporter": "python",
   "pygments_lexer": "ipython3",
   "version": "3.8.0"
  }
 },
 "nbformat": 4,
 "nbformat_minor": 2
}
